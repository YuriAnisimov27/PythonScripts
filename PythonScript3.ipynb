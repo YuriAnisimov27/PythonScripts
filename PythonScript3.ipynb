{
 "cells": [
  {
   "cell_type": "code",
   "execution_count": 1,
   "metadata": {},
   "outputs": [
    {
     "name": "stdout",
     "output_type": "stream",
     "text": [
      "4.5\n",
      "7.25\n"
     ]
    }
   ],
   "source": [
    "'''Напишите функцию f(x), которая возвращает значение следующей функции, определённой на всей числовой прямой:\n",
    "\n",
    "f(x)= \\begin{cases}   1 - (x + 2)^2,\\quad &\\text{при } x\\le -2\\\\  -\\frac x2 ,\\quad &\\text{при } -2 \\lt x \\le 2\\\\   (x-2)^2 + 1,\\quad &\\text{при } 2 \\lt x \\end{cases}\n",
    "f(x)= \n",
    "⎩\n",
    "⎪\n",
    "⎪\n",
    "⎨\n",
    "⎪\n",
    "⎪\n",
    "⎧\n",
    "​\t\n",
    "  \n",
    " 1−(x+2) \n",
    "2\n",
    " ,\n",
    " − \n",
    "2\n",
    "x\n",
    "​\t\n",
    " ,\n",
    " (x−2) \n",
    "2\n",
    " +1,\n",
    "​\t\n",
    "  \n",
    "при x≤−2\n",
    "при −2<x≤2\n",
    "при 2<x\n",
    "​\t\n",
    " \n",
    "Требуется реализовать только функцию, решение не должно осуществлять операций ввода-вывода.'''\n",
    "x=float(input())\n",
    "def func2(x):\n",
    "    if (x<=-2):\n",
    "        y=1 - (x+2)**2\n",
    "    elif (-2<x<=2):\n",
    "        y=x/(-2)\n",
    "    elif (x>2):\n",
    "        y=(x-2)**2 + 1\n",
    "    return y\n",
    "\n",
    "print(func2(x))        "
   ]
  },
  {
   "cell_type": "code",
   "execution_count": null,
   "metadata": {},
   "outputs": [],
   "source": [
    "def f(x):\n",
    "    if x <= -2:\n",
    "        return 1 - (x+2)**2\n",
    "    if x <= 2:\n",
    "        return -x/2\n",
    "    return (x-2)**2 + 1"
   ]
  },
  {
   "cell_type": "code",
   "execution_count": null,
   "metadata": {},
   "outputs": [],
   "source": [
    "'''Напишите функцию modify_list(l), которая принимает на вход список целых чисел, \n",
    "удаляет из него все нечётные значения, а чётные нацело делит на два. \n",
    "Функция не должна ничего возвращать, требуется только изменение переданного списка, например:'''\n",
    "l=input().split()\n",
    "def new_a(l):\n",
    "    for i in reversed(range(0, len(l))):\n",
    "        if (int(l[i])%2 == 0)or(int(l[i]) == 0):\n",
    "            l[i] = int(int(l[i])/2)\n",
    "        else:\n",
    "            del l[i]\n",
    "    return l #для проверки \n",
    "\n",
    "print(new_a(l))"
   ]
  },
  {
   "cell_type": "code",
   "execution_count": null,
   "metadata": {},
   "outputs": [],
   "source": [
    "l=input().split()\n",
    "def new_a(l):\n",
    "    b=[]\n",
    "    for i in range(0, len(l)):\n",
    "        if (int(l[i])%2 == 0)or(int(l[i]) == 0):\n",
    "            c = int(l[i])/2\n",
    "            b += [int(c)]\n",
    "    l = b\n",
    "    return l\n",
    "\n",
    "print(new_a(l))"
   ]
  },
  {
   "cell_type": "code",
   "execution_count": null,
   "metadata": {},
   "outputs": [],
   "source": [
    "l[:] = [i//2 for i in l if not i % 2]"
   ]
  },
  {
   "cell_type": "code",
   "execution_count": null,
   "metadata": {},
   "outputs": [],
   "source": [
    "'''Напишите функцию update_dictionary(d, key, value), которая принимает на вход словарь dd и два числа: \n",
    "keykey и valuevalue.\n",
    "Если ключ keykey есть в словаре dd, то добавьте значение valuevalue в список, который хранится по этому ключу.\n",
    "Если ключа keykey нет в словаре, то нужно добавить значение в список по ключу 2 * key2∗key. \n",
    "Если и ключа 2 * key2∗key нет, то нужно добавить ключ 2 * key2∗key в словарь и сопоставить ему список из \n",
    "переданного элемента [value][value].\n",
    "Требуется реализовать только эту функцию, кода вне неё не должно быть.\n",
    "Функция не должна вызывать внутри себя функции input и print.'''\n",
    "    if key in d:\n",
    "        d[key] += [value]\n",
    "    elif 2*key in d:\n",
    "        d[2*key] += [value]\n",
    "    else:\n",
    "        d.update({2*key:[value]})"
   ]
  },
  {
   "cell_type": "code",
   "execution_count": null,
   "metadata": {},
   "outputs": [],
   "source": []
  },
  {
   "cell_type": "code",
   "execution_count": null,
   "metadata": {},
   "outputs": [],
   "source": []
  }
 ],
 "metadata": {
  "kernelspec": {
   "display_name": "Python 3",
   "language": "python",
   "name": "python3"
  },
  "language_info": {
   "codemirror_mode": {
    "name": "ipython",
    "version": 3
   },
   "file_extension": ".py",
   "mimetype": "text/x-python",
   "name": "python",
   "nbconvert_exporter": "python",
   "pygments_lexer": "ipython3",
   "version": "3.7.4"
  }
 },
 "nbformat": 4,
 "nbformat_minor": 4
}
