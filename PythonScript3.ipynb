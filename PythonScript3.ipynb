{
 "cells": [
  {
   "cell_type": "code",
   "execution_count": 1,
   "metadata": {},
   "outputs": [
    {
     "name": "stdout",
     "output_type": "stream",
     "text": [
      "4.5\n",
      "7.25\n"
     ]
    }
   ],
   "source": [
    "'''Напишите функцию f(x), которая возвращает значение следующей функции, определённой на всей числовой прямой:\n",
    "\n",
    "f(x)= \\begin{cases}   1 - (x + 2)^2,\\quad &\\text{при } x\\le -2\\\\  -\\frac x2 ,\\quad &\\text{при } -2 \\lt x \\le 2\\\\   (x-2)^2 + 1,\\quad &\\text{при } 2 \\lt x \\end{cases}\n",
    "f(x)= \n",
    "⎩\n",
    "⎪\n",
    "⎪\n",
    "⎨\n",
    "⎪\n",
    "⎪\n",
    "⎧\n",
    "​\t\n",
    "  \n",
    " 1−(x+2) \n",
    "2\n",
    " ,\n",
    " − \n",
    "2\n",
    "x\n",
    "​\t\n",
    " ,\n",
    " (x−2) \n",
    "2\n",
    " +1,\n",
    "​\t\n",
    "  \n",
    "при x≤−2\n",
    "при −2<x≤2\n",
    "при 2<x\n",
    "​\t\n",
    " \n",
    "Требуется реализовать только функцию, решение не должно осуществлять операций ввода-вывода.'''\n",
    "x=float(input())\n",
    "def func2(x):\n",
    "    if (x<=-2):\n",
    "        y=1 - (x+2)**2\n",
    "    elif (-2<x<=2):\n",
    "        y=x/(-2)\n",
    "    elif (x>2):\n",
    "        y=(x-2)**2 + 1\n",
    "    return y\n",
    "\n",
    "print(func2(x))        "
   ]
  },
  {
   "cell_type": "code",
   "execution_count": null,
   "metadata": {},
   "outputs": [],
   "source": [
    "def f(x):\n",
    "    if x <= -2:\n",
    "        return 1 - (x+2)**2\n",
    "    if x <= 2:\n",
    "        return -x/2\n",
    "    return (x-2)**2 + 1"
   ]
  },
  {
   "cell_type": "code",
   "execution_count": null,
   "metadata": {},
   "outputs": [],
   "source": []
  },
  {
   "cell_type": "code",
   "execution_count": null,
   "metadata": {},
   "outputs": [],
   "source": []
  },
  {
   "cell_type": "code",
   "execution_count": null,
   "metadata": {},
   "outputs": [],
   "source": []
  },
  {
   "cell_type": "code",
   "execution_count": null,
   "metadata": {},
   "outputs": [],
   "source": []
  }
 ],
 "metadata": {
  "kernelspec": {
   "display_name": "Python 3",
   "language": "python",
   "name": "python3"
  },
  "language_info": {
   "codemirror_mode": {
    "name": "ipython",
    "version": 3
   },
   "file_extension": ".py",
   "mimetype": "text/x-python",
   "name": "python",
   "nbconvert_exporter": "python",
   "pygments_lexer": "ipython3",
   "version": "3.7.4"
  }
 },
 "nbformat": 4,
 "nbformat_minor": 4
}
