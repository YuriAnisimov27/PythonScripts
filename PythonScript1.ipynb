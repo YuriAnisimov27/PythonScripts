{
 "cells": [
  {
   "cell_type": "code",
   "execution_count": 22,
   "metadata": {},
   "outputs": [
    {
     "name": "stdout",
     "output_type": "stream",
     "text": [
      "прямоугольник\n",
      "4\n",
      "10\n",
      "40\n"
     ]
    }
   ],
   "source": [
    "r=str(input()) #вычисление площади заданной фигуры\n",
    "if (r=='треугольник'):\n",
    "    a=int(input())\n",
    "    b=int(input())\n",
    "    c=int(input())\n",
    "    p=(a+b+c)/2\n",
    "    print((p*(p-a)*(p-b)*(p-c))**0.5)\n",
    "elif (r=='прямоугольник'):\n",
    "    a=int(input())\n",
    "    b=int(input())\n",
    "    print(a*b)\n",
    "elif (r=='круг'):\n",
    "    a=int(input())\n",
    "    print(3.14*(a**2))"
   ]
  },
  {
   "cell_type": "code",
   "execution_count": 3,
   "metadata": {},
   "outputs": [
    {
     "name": "stdout",
     "output_type": "stream",
     "text": [
      "23\n",
      "23\n",
      "21\n",
      "23\n",
      "21\n",
      "23\n"
     ]
    }
   ],
   "source": [
    "a=int(input()) #из трех чисел выводится максимальное, минимальное, а затем оставшееся\n",
    "b=int(input())\n",
    "c=int(input())\n",
    "if (a>=b)and(a>=c):\n",
    "    m=a\n",
    "if (b>=a)and(b>=c):\n",
    "    m=b\n",
    "if (c>=a)and(c>=b):\n",
    "    m=c\n",
    "if (a<=b)and(a<=c):\n",
    "    n=a\n",
    "if (b<=a)and(b<=c):\n",
    "    n=b\n",
    "if (c<=a)and(c<=b):\n",
    "    n=c\n",
    "print(m)\n",
    "print(n)\n",
    "print(a+b+c-m-n)"
   ]
  },
  {
   "cell_type": "code",
   "execution_count": 61,
   "metadata": {},
   "outputs": [
    {
     "name": "stdout",
     "output_type": "stream",
     "text": [
      "721\n",
      "721 программист\n"
     ]
    }
   ],
   "source": [
    "n=int(input())  # программа для правильного окончания подсчета программистов \n",
    "if (n<=0):\n",
    "    print('0 программистов')\n",
    "    \n",
    "if (0<n<=99):\n",
    "    if (n==11)or(n==12)or(n==13)or(n==14):\n",
    "        print(n, 'программистов')\n",
    "    elif (n%10==0):\n",
    "        print(n, 'программистов')\n",
    "    elif (n%10==1):\n",
    "        print(n, 'программист')\n",
    "    elif (n%10==2)or(n%10==3)or(n%10==4):\n",
    "        print(n, 'программиста')\n",
    "    else:\n",
    "        print(n, 'программистов')\n",
    "\n",
    "if (100<=n<=999): \n",
    "    if (n%100==1):\n",
    "        print(n, 'программист')\n",
    "    elif (n%100==11)or(n%100==12)or(n%100==13)or(n%100==14):\n",
    "        print(n, 'программистов')\n",
    "    elif (n%10==2)or(n%10==3)or(n%10==4):\n",
    "        print(n, 'программиста')\n",
    "    elif (n%10==1):\n",
    "        print(n, 'программист')\n",
    "    else:\n",
    "        print(n, 'программистов')\n",
    "\n",
    "if (n==1000):\n",
    "    print(n, 'программистов')\n",
    "# print(n,'программист'+('ов' if n%10==0 or 4<n%10<10 or 10<n%100<15 else 'а' if 1<n%10<5 else ''))\n",
    "# самый короткий вариант"
   ]
  },
  {
   "cell_type": "code",
   "execution_count": 58,
   "metadata": {},
   "outputs": [
    {
     "data": {
      "text/plain": [
       "23"
      ]
     },
     "execution_count": 58,
     "metadata": {},
     "output_type": "execute_result"
    }
   ],
   "source": [
    "123%100"
   ]
  },
  {
   "cell_type": "code",
   "execution_count": null,
   "metadata": {},
   "outputs": [],
   "source": []
  }
 ],
 "metadata": {
  "kernelspec": {
   "display_name": "Python 3",
   "language": "python",
   "name": "python3"
  }
 },
 "nbformat": 4,
 "nbformat_minor": 4
}
