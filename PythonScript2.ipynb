{
 "cells": [
  {
   "cell_type": "code",
   "execution_count": 2,
   "metadata": {},
   "outputs": [
    {
     "name": "stdout",
     "output_type": "stream",
     "text": [
      "1\n",
      "-3\n",
      "12\n",
      "0\n",
      "10\n"
     ]
    }
   ],
   "source": [
    "s=int(input()) #Напишите программу, которая считывает со стандартного ввода целые числа, по одному числу в строке, и после первого введенного нуля выводит сумму полученных на вход чисел.\n",
    "if (s==0):\n",
    "    s = 0\n",
    "else:\n",
    "    i=1\n",
    "    while i!=0:\n",
    "        i=int(input())\n",
    "        s+=i\n",
    "print(s)"
   ]
  },
  {
   "cell_type": "code",
   "execution_count": 3,
   "metadata": {},
   "outputs": [
    {
     "name": "stdout",
     "output_type": "stream",
     "text": [
      "1\n",
      "-4\n",
      "0\n",
      "-3\n"
     ]
    }
   ],
   "source": [
    "s, n =0, int(input()) # короткий вариант\n",
    "while n:\n",
    "    s, n = s + n, int(input())\n",
    "print(s)"
   ]
  },
  {
   "cell_type": "code",
   "execution_count": 11,
   "metadata": {},
   "outputs": [
    {
     "name": "stdout",
     "output_type": "stream",
     "text": [
      "15\n",
      "15\n",
      "15\n"
     ]
    }
   ],
   "source": [
    "'''В Институте биоинформатики между информатиками и биологами устраивается соревнование. \n",
    "Победителям соревнования достанется большой и вкусный пирог. \n",
    "В команде биологов aa человек, а в команде информатиков — bb человек.\n",
    "Нужно заранее разрезать пирог таким образом, чтобы можно было раздать кусочки пирога любой команде, \n",
    "выигравшей соревнование, при этом каждому участнику этой команды должно достаться одинаковое число кусочков пирога. \n",
    "И так как не хочется резать пирог на слишком мелкие кусочки, нужно найти минимальное подходящее число.\n",
    "Напишите программу, которая помогает найти это число.\n",
    "Программа должна считывать размеры команд (два положительных целых числа aa и bb, \n",
    "каждое число вводится на отдельной строке) и выводить наименьшее число dd, \n",
    "которое делится на оба этих числа без остатка.'''\n",
    "aa=int(input())\n",
    "bb=int(input())\n",
    "i=1\n",
    "dd=aa*bb\n",
    "while (i<(aa*bb)):\n",
    "    if (i%aa==0)and(i%bb==0):\n",
    "        dd=i\n",
    "        i=aa*bb\n",
    "    else:\n",
    "        i+=1\n",
    "print(dd)"
   ]
  },
  {
   "cell_type": "code",
   "execution_count": 12,
   "metadata": {},
   "outputs": [
    {
     "name": "stdout",
     "output_type": "stream",
     "text": [
      "3\n",
      "7\n",
      "21\n"
     ]
    }
   ],
   "source": [
    "a = int(input()) #короткий вариант\n",
    "b = int(input())\n",
    "d = a\n",
    "while d%b:\n",
    "    d += a\n",
    "print(d)"
   ]
  },
  {
   "cell_type": "code",
   "execution_count": 1,
   "metadata": {},
   "outputs": [
    {
     "name": "stdout",
     "output_type": "stream",
     "text": [
      "3\n",
      "13\n",
      "13\n",
      "113\n"
     ]
    }
   ],
   "source": [
    "'''Напишите программу, которая считывает целые числа с консоли по одному числу в строке.\n",
    "Для каждого введённого числа проверить:\n",
    "если число меньше 10, то пропускаем это число;\n",
    "если число больше 100, то прекращаем считывать числа;\n",
    "в остальных случаях вывести это число обратно на консоль в отдельной строке.'''\n",
    "i=0\n",
    "while i<1:\n",
    "    a=int(input())\n",
    "    if (a<10):\n",
    "        continue\n",
    "    if (10<=a<=100):\n",
    "        print(a)\n",
    "    if (a>100):\n",
    "        break"
   ]
  },
  {
   "cell_type": "code",
   "execution_count": 2,
   "metadata": {},
   "outputs": [
    {
     "name": "stdout",
     "output_type": "stream",
     "text": [
      "11\n",
      "11\n",
      "1\n",
      "111\n"
     ]
    }
   ],
   "source": [
    "a = 0 #короткий вариант\n",
    "while a <= 100:\n",
    "    a = int(input())\n",
    "    if 10 <= a <= 100:\n",
    "        print(a)"
   ]
  },
  {
   "cell_type": "code",
   "execution_count": 3,
   "metadata": {},
   "outputs": [
    {
     "name": "stdout",
     "output_type": "stream",
     "text": [
      "1\n",
      "3\n",
      "2\n",
      "4\n",
      "\t 2\t 3\t 4\n",
      "1\t2\t3\t4\t\t\n",
      "2\t4\t6\t8\t\t\n",
      "3\t6\t9\t12\t\t\n"
     ]
    }
   ],
   "source": [
    "'''Напишите программу, на вход которой даются четыре числа aa, bb, cc и dd, каждое в своей строке. \n",
    "Программа должна вывести фрагмент таблицы умножения для всех чисел отрезка \n",
    "[a; b][a;b] на все числа отрезка [c;d][c;d].\n",
    "Числа aa, bb, cc и dd являются натуральными и не превосходят 10, a \\le ba≤b, c \\le dc≤d.\n",
    "Следуйте формату вывода из примера, для разделения элементов внутри строки используйте '\\t' — символ табуляции. \n",
    "Заметьте, что левым столбцом и верхней строкой выводятся сами числа из заданных отрезков — заголовочные столбец \n",
    "и строка таблицы.'''\n",
    "a=int(input())\n",
    "b=int(input())\n",
    "c=int(input())\n",
    "d=int(input())\n",
    "j=c\n",
    "while (j<=d):\n",
    "    print('\\t', j, end='')\n",
    "    j+=1\n",
    "print()\n",
    "for a in range(a, b+1):\n",
    "    print(a, end='\\t')\n",
    "    for i in range(c, d+1):\n",
    "        print(a*i, end='\\t')\n",
    "    print('\\t')"
   ]
  },
  {
   "cell_type": "code",
   "execution_count": 4,
   "metadata": {},
   "outputs": [
    {
     "name": "stdout",
     "output_type": "stream",
     "text": [
      "6\n",
      "10\n",
      "6\n",
      "8\n",
      "\t6\t7\t8\n",
      "6\t36\t42\t48\n",
      "7\t42\t49\t56\n",
      "8\t48\t56\t64\n",
      "9\t54\t63\t72\n",
      "10\t60\t70\t80\n"
     ]
    }
   ],
   "source": [
    "a, b, c, d = (int(input()) for x in range(4)) #короткий вариант\n",
    "print('', *range(c,d+1), sep='\\t')\n",
    "for x in range(a, b+1):\n",
    "    print(x, *[y*x for y in range(c, d+1)], sep='\\t')"
   ]
  },
  {
   "cell_type": "code",
   "execution_count": 9,
   "metadata": {},
   "outputs": [
    {
     "name": "stdout",
     "output_type": "stream",
     "text": [
      "-100\n",
      "200\n",
      "49.5\n"
     ]
    }
   ],
   "source": [
    "'''Напишите программу, которая считывает с клавиатуры два числа aa и bb, \n",
    "считает и выводит на консоль среднее арифметическое всех чисел из отрезка [a; b][a;b], которые делятся на 33.\n",
    "В приведенном ниже примере среднее арифметическое считается для чисел на отрезке [-5; 12][−5;12]. \n",
    "Всего чисел, делящихся на 33, на этом отрезке 66: -3, 0, 3, 6, 9, 12−3,0,3,6,9,12. \n",
    "Их среднее арифметическое равно 4.54.5\n",
    "На вход программе подаются интервалы, внутри которых всегда есть хотя бы одно число, которое делится на 33.'''\n",
    "a=int(input())\n",
    "b=int(input())\n",
    "s=0\n",
    "j=0\n",
    "for i in range(a, b+1):\n",
    "    if i % 3 == 0:\n",
    "        s += i\n",
    "        j += 1\n",
    "print(s/j)"
   ]
  },
  {
   "cell_type": "code",
   "execution_count": 10,
   "metadata": {},
   "outputs": [
    {
     "name": "stdout",
     "output_type": "stream",
     "text": [
      "-100\n",
      "200\n",
      "49.5\n"
     ]
    }
   ],
   "source": [
    "a,b = int(input()), int(input()) #короткий вариант\n",
    "a += -a%3\n",
    "b -= b%3\n",
    "print((a+b)/2)"
   ]
  },
  {
   "cell_type": "code",
   "execution_count": null,
   "metadata": {},
   "outputs": [],
   "source": []
  }
 ],
 "metadata": {
  "kernelspec": {
   "display_name": "Python 3",
   "language": "python",
   "name": "python3"
  },
  "language_info": {
   "codemirror_mode": {
    "name": "ipython",
    "version": 3
   },
   "file_extension": ".py",
   "mimetype": "text/x-python",
   "name": "python",
   "nbconvert_exporter": "python",
   "pygments_lexer": "ipython3",
   "version": "3.7.4"
  }
 },
 "nbformat": 4,
 "nbformat_minor": 4
}
