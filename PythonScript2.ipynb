{
 "cells": [
  {
   "cell_type": "code",
   "execution_count": 2,
   "metadata": {},
   "outputs": [
    {
     "name": "stdout",
     "output_type": "stream",
     "text": [
      "1\n",
      "-3\n",
      "12\n",
      "0\n",
      "10\n"
     ]
    }
   ],
   "source": [
    "s=int(input()) #Напишите программу, которая считывает со стандартного ввода целые числа, по одному числу в строке, и после первого введенного нуля выводит сумму полученных на вход чисел.\n",
    "if (s==0):\n",
    "    s = 0\n",
    "else:\n",
    "    i=1\n",
    "    while i!=0:\n",
    "        i=int(input())\n",
    "        s+=i\n",
    "print(s)"
   ]
  },
  {
   "cell_type": "code",
   "execution_count": 3,
   "metadata": {},
   "outputs": [
    {
     "name": "stdout",
     "output_type": "stream",
     "text": [
      "1\n",
      "-4\n",
      "0\n",
      "-3\n"
     ]
    }
   ],
   "source": [
    "s, n =0, int(input()) # короткий вариант\n",
    "while n:\n",
    "    s, n = s + n, int(input())\n",
    "print(s)"
   ]
  },
  {
   "cell_type": "code",
   "execution_count": 11,
   "metadata": {},
   "outputs": [
    {
     "name": "stdout",
     "output_type": "stream",
     "text": [
      "15\n",
      "15\n",
      "15\n"
     ]
    }
   ],
   "source": [
    "'''В Институте биоинформатики между информатиками и биологами устраивается соревнование. \n",
    "Победителям соревнования достанется большой и вкусный пирог. \n",
    "В команде биологов aa человек, а в команде информатиков — bb человек.\n",
    "Нужно заранее разрезать пирог таким образом, чтобы можно было раздать кусочки пирога любой команде, \n",
    "выигравшей соревнование, при этом каждому участнику этой команды должно достаться одинаковое число кусочков пирога. \n",
    "И так как не хочется резать пирог на слишком мелкие кусочки, нужно найти минимальное подходящее число.\n",
    "Напишите программу, которая помогает найти это число.\n",
    "Программа должна считывать размеры команд (два положительных целых числа aa и bb, \n",
    "каждое число вводится на отдельной строке) и выводить наименьшее число dd, \n",
    "которое делится на оба этих числа без остатка.'''\n",
    "aa=int(input())\n",
    "bb=int(input())\n",
    "i=1\n",
    "dd=aa*bb\n",
    "while (i<(aa*bb)):\n",
    "    if (i%aa==0)and(i%bb==0):\n",
    "        dd=i\n",
    "        i=aa*bb\n",
    "    else:\n",
    "        i+=1\n",
    "print(dd)"
   ]
  },
  {
   "cell_type": "code",
   "execution_count": 12,
   "metadata": {},
   "outputs": [
    {
     "name": "stdout",
     "output_type": "stream",
     "text": [
      "3\n",
      "7\n",
      "21\n"
     ]
    }
   ],
   "source": [
    "a = int(input()) #короткий вариант\n",
    "b = int(input())\n",
    "d = a\n",
    "while d%b:\n",
    "    d += a\n",
    "print(d)"
   ]
  },
  {
   "cell_type": "code",
   "execution_count": null,
   "metadata": {},
   "outputs": [],
   "source": []
  }
 ],
 "metadata": {
  "kernelspec": {
   "display_name": "Python 3",
   "language": "python",
   "name": "python3"
  },
  "language_info": {
   "codemirror_mode": {
    "name": "ipython",
    "version": 3
   },
   "file_extension": ".py",
   "mimetype": "text/x-python",
   "name": "python",
   "nbconvert_exporter": "python",
   "pygments_lexer": "ipython3",
   "version": "3.7.4"
  }
 },
 "nbformat": 4,
 "nbformat_minor": 4
}
